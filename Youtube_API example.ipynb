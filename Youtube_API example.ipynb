{
 "cells": [
  {
   "cell_type": "code",
   "execution_count": 13,
   "metadata": {},
   "outputs": [],
   "source": [
    "import pandas as pd\n",
    "from config import key\n",
    "import requests\n",
    "\n",
    "# Description: This example retrieves a video resource and identifies several \\\n",
    "#             resource parts that should be included in the API response.\n"
   ]
  },
  {
   "cell_type": "code",
   "execution_count": 23,
   "metadata": {},
   "outputs": [
    {
     "data": {
      "text/plain": [
       "{'kind': 'youtube#videoListResponse',\n",
       " 'etag': '\"XpPGQXPnxQJhLgs6enD_n8JR4Qk/hjH72sfVwiy3zL1dXtGAHAkRr78\"',\n",
       " 'pageInfo': {'totalResults': 1, 'resultsPerPage': 1},\n",
       " 'items': [{'kind': 'youtube#video',\n",
       "   'etag': '\"XpPGQXPnxQJhLgs6enD_n8JR4Qk/qQBsTb8YBBpg00nb_TosjwGSyJc\"',\n",
       "   'id': '7lCDEYXw3mM',\n",
       "   'snippet': {'publishedAt': '2012-06-20T23:12:38.000Z',\n",
       "    'channelId': 'UC_x5XG1OV2P6uZZ5FSM9Ttw',\n",
       "    'title': 'Google I/O 101: Q&A On Using Google APIs',\n",
       "    'description': 'Antonio Fuentes speaks to us and takes questions on working with Google APIs and OAuth 2.0.',\n",
       "    'thumbnails': {'default': {'url': 'https://i.ytimg.com/vi/7lCDEYXw3mM/default.jpg',\n",
       "      'width': 120,\n",
       "      'height': 90},\n",
       "     'medium': {'url': 'https://i.ytimg.com/vi/7lCDEYXw3mM/mqdefault.jpg',\n",
       "      'width': 320,\n",
       "      'height': 180},\n",
       "     'high': {'url': 'https://i.ytimg.com/vi/7lCDEYXw3mM/hqdefault.jpg',\n",
       "      'width': 480,\n",
       "      'height': 360}},\n",
       "    'channelTitle': 'Google Developers',\n",
       "    'tags': ['api', 'gdl', 'i-o'],\n",
       "    'categoryId': '28',\n",
       "    'liveBroadcastContent': 'none',\n",
       "    'localized': {'title': 'Google I/O 101: Q&A On Using Google APIs',\n",
       "     'description': 'Antonio Fuentes speaks to us and takes questions on working with Google APIs and OAuth 2.0.'}},\n",
       "   'contentDetails': {'duration': 'PT15M51S',\n",
       "    'dimension': '2d',\n",
       "    'definition': 'hd',\n",
       "    'caption': 'true',\n",
       "    'licensedContent': False,\n",
       "    'projection': 'rectangular'},\n",
       "   'status': {'uploadStatus': 'processed',\n",
       "    'privacyStatus': 'public',\n",
       "    'license': 'youtube',\n",
       "    'embeddable': True,\n",
       "    'publicStatsViewable': True},\n",
       "   'statistics': {'viewCount': '9145',\n",
       "    'likeCount': '49',\n",
       "    'dislikeCount': '2',\n",
       "    'favoriteCount': '0',\n",
       "    'commentCount': '5'},\n",
       "   'player': {'embedHtml': '<iframe width=\"480\" height=\"270\" src=\"//www.youtube.com/embed/7lCDEYXw3mM\" frameborder=\"0\" allow=\"accelerometer; autoplay; encrypted-media; gyroscope; picture-in-picture\" allowfullscreen></iframe>'},\n",
       "   'topicDetails': {'topicIds': ['/m/019_rr', '/m/07c1v'],\n",
       "    'relevantTopicIds': ['/m/019_rr', '/m/07c1v'],\n",
       "    'topicCategories': ['https://en.wikipedia.org/wiki/Technology',\n",
       "     'https://en.wikipedia.org/wiki/Lifestyle_(sociology)']}}]}"
      ]
     },
     "execution_count": 23,
     "metadata": {},
     "output_type": "execute_result"
    }
   ],
   "source": [
    "video_id = \"7lCDEYXw3mM\"\n",
    "\n",
    "base_url = f\"https://www.googleapis.com/youtube/v3/videos?id={video_id}&key={key}&part=snippet,contentDetails,statistics,status, player,recordingDetails,topicDetails\"\n",
    "\n",
    "#part = (snippet,contentDetails,statistics,status) #elegir una para comenzar \n",
    "base_url\n",
    "\n",
    "response = requests.get(base_url).json()\n",
    "response"
   ]
  },
  {
   "cell_type": "code",
   "execution_count": null,
   "metadata": {},
   "outputs": [],
   "source": []
  }
 ],
 "metadata": {
  "anaconda-cloud": {},
  "kernelspec": {
   "display_name": "Python 3",
   "language": "python",
   "name": "python3"
  },
  "language_info": {
   "codemirror_mode": {
    "name": "ipython",
    "version": 3
   },
   "file_extension": ".py",
   "mimetype": "text/x-python",
   "name": "python",
   "nbconvert_exporter": "python",
   "pygments_lexer": "ipython3",
   "version": "3.7.1"
  }
 },
 "nbformat": 4,
 "nbformat_minor": 2
}
